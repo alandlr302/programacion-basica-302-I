{
  "nbformat": 4,
  "nbformat_minor": 0,
  "metadata": {
    "colab": {
      "provenance": [],
      "authorship_tag": "ABX9TyME882/8IIFuAng+M55tbWA",
      "include_colab_link": true
    },
    "kernelspec": {
      "name": "python3",
      "display_name": "Python 3"
    },
    "language_info": {
      "name": "python"
    }
  },
  "cells": [
    {
      "cell_type": "markdown",
      "metadata": {
        "id": "view-in-github",
        "colab_type": "text"
      },
      "source": [
        "<a href=\"https://colab.research.google.com/github/alandlr302/programacion-basica-302-I/blob/main/ActLab%20302/actlab1/.ipynb\" target=\"_parent\"><img src=\"https://colab.research.google.com/assets/colab-badge.svg\" alt=\"Open In Colab\"/></a>"
      ]
    },
    {
      "cell_type": "code",
      "source": [
        "atividad de laboratorio 1 inpresioin de mensajes"
      ],
      "metadata": {
        "id": "joDMpktgxizb"
      },
      "execution_count": null,
      "outputs": []
    },
    {
      "cell_type": "markdown",
      "source": [],
      "metadata": {
        "id": "aplM1fNYxhiP"
      }
    },
    {
      "cell_type": "markdown",
      "source": [
        "PB302_1.cpp programa para vienvenida"
      ],
      "metadata": {
        "id": "C7ewAbM9mOmM"
      }
    },
    {
      "cell_type": "code",
      "execution_count": null,
      "metadata": {
        "colab": {
          "base_uri": "https://localhost:8080/"
        },
        "id": "394F-y7plivx",
        "outputId": "342bd87d-45be-4330-8e9b-78c6916d2365"
      },
      "outputs": [
        {
          "output_type": "stream",
          "name": "stdout",
          "text": [
            "Overwriting PB302_1.cpp\n"
          ]
        }
      ],
      "source": [
        "%%writefile PB302_1.cpp\n",
        "//programa para inprimir mensajes de vienvenida\n",
        "//creado por alan de la rosa gonzalez\n",
        "//fecha 15/sep/2025\n",
        "//pb302_1.cpp\n",
        "#include <iostream>\n",
        "using namespace std;\n",
        "int main()\n",
        "{\n",
        "  cout<<\"bienvenidos a programacion basica en C++\\n\";\n",
        "  cout<<\"gracias por programar en clase\";\n",
        "  return 0;\n",
        "}\n"
      ]
    },
    {
      "cell_type": "code",
      "source": [
        "!g++ PB302_1.cpp -o PB302_1\n",
        "!./PB302_1"
      ],
      "metadata": {
        "colab": {
          "base_uri": "https://localhost:8080/"
        },
        "id": "NqaczdPRpxXg",
        "outputId": "8ab1fa3a-f331-4967-a3a4-653bb71d59ce"
      },
      "execution_count": null,
      "outputs": [
        {
          "output_type": "stream",
          "name": "stdout",
          "text": [
            "bienvenidos a programacion basica en C++\n",
            "gracias por programar en clase"
          ]
        }
      ]
    },
    {
      "cell_type": "markdown",
      "source": [
        "pb302_2.cpp programa para imprimir datos pesonales"
      ],
      "metadata": {
        "id": "sOVgoXBPqznS"
      }
    },
    {
      "cell_type": "code",
      "source": [
        "%%writefile pb302_2.cpp\n",
        "//programa para mostrar datos personales\n",
        "//creado por alan de la rosa gonzalez\n",
        "//fecha:18/septiembre/2025\n",
        "//pb302_2.cpp\n",
        "#include<iostream>\n",
        "using namespace std;\n",
        "int main()\n",
        "{\n",
        "  char nombre[10]=\"alan\";\n",
        "  char  paterno[12]=\"de la rosa\";\n",
        "  char materno[14]=\"gonzalez\";\n",
        "  int edad=16;\n",
        "  char direccion[18]=\"doctor quiros\";\n",
        "  char fecha[20]=\"11/07/2009\";\n",
        "  char ciudad[22]=\"ciudad juarez\";\n",
        "\n",
        "  cout<<\"tu nombre completo es:\\n\";\n",
        "  cout<<nombre<<\"\\n\";\n",
        "  cout<<paterno<<\"\\n\";\n",
        "  cout<<materno<<\"\\n\";\n",
        "  cout<<edad<<\"\\n\";\n",
        "  cout<<direccion<<\"\\n\";\n",
        "  cout<<fecha<<\"\\n\";\n",
        "  cout<<ciudad<<\"\\n\";\n",
        "  return 0;\n",
        "}\n"
      ],
      "metadata": {
        "colab": {
          "base_uri": "https://localhost:8080/"
        },
        "id": "AOXBtRbdrC2S",
        "outputId": "3a20d146-88e7-4125-cb8a-8b501dd49133"
      },
      "execution_count": 29,
      "outputs": [
        {
          "output_type": "stream",
          "name": "stdout",
          "text": [
            "Overwriting pb302_2.cpp\n"
          ]
        }
      ]
    },
    {
      "cell_type": "code",
      "source": [
        "!g++ pb302_2.cpp -o pb302_2.exe\n",
        "!./pb302_2.exe"
      ],
      "metadata": {
        "colab": {
          "base_uri": "https://localhost:8080/"
        },
        "id": "i1Lr3duXwkTT",
        "outputId": "f184c0af-37c8-4522-a5c6-26d281d05c93"
      },
      "execution_count": 30,
      "outputs": [
        {
          "output_type": "stream",
          "name": "stdout",
          "text": [
            "tu nombre completo es:\n",
            "alan\n",
            "de la rosa\n",
            "gonzalez\n",
            "16\n",
            "doctor quiros\n",
            "11/07/2009\n",
            "ciudad juarez\n"
          ]
        }
      ]
    }
  ]
}